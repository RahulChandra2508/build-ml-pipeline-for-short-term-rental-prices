{
 "cells": [
  {
   "cell_type": "code",
   "execution_count": 1,
   "metadata": {},
   "outputs": [],
   "source": [
    "import argparse\n",
    "import logging\n",
    "import pandas as pd\n",
    "import wandb\n",
    "import tempfile\n",
    "from sklearn.model_selection import train_test_split"
   ]
  },
  {
   "cell_type": "code",
   "execution_count": null,
   "metadata": {},
   "outputs": [],
   "source": [
    "for df, k in zip([trainval, test], ['trainval', 'test']):\n",
    "        logger.info(f\"Uploading {k}_data.csv dataset\")\n",
    "        with tempfile.NamedTemporaryFile(\"w\") as fp:\n",
    "\n",
    "            df.to_csv(fp.name, index=False)"
   ]
  }
 ],
 "metadata": {
  "kernelspec": {
   "display_name": "udacity_env",
   "language": "python",
   "name": "python3"
  },
  "language_info": {
   "codemirror_mode": {
    "name": "ipython",
    "version": 3
   },
   "file_extension": ".py",
   "mimetype": "text/x-python",
   "name": "python",
   "nbconvert_exporter": "python",
   "pygments_lexer": "ipython3",
   "version": "3.10.10"
  },
  "orig_nbformat": 4
 },
 "nbformat": 4,
 "nbformat_minor": 2
}
