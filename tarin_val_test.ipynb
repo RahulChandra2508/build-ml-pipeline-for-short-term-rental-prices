{
 "cells": [
  {
   "cell_type": "code",
   "execution_count": 19,
   "metadata": {},
   "outputs": [],
   "source": [
    "import argparse\n",
    "import json\n",
    "import logging\n",
    "import os\n",
    "import tempfile\n",
    "\n",
    "import hydra\n",
    "import joblib\n",
    "import mlflow\n",
    "import pandas as pd\n",
    "import wandb\n",
    "from omegaconf import DictConfig\n",
    "from sklearn.model_selection import train_test_split\n",
    "import yaml\n",
    "from pathlib import Path"
   ]
  },
  {
   "cell_type": "code",
   "execution_count": 7,
   "metadata": {},
   "outputs": [],
   "source": [
    "with open(\"config.yaml\",\"r\") as fp:\n",
    "    config = yaml.safe_load(fp)"
   ]
  },
  {
   "cell_type": "code",
   "execution_count": 10,
   "metadata": {},
   "outputs": [
    {
     "data": {
      "text/plain": [
       "'d:\\\\Learning\\\\Udacity\\\\Assignments\\\\project_2\\\\build-ml-pipeline-for-short-term-rental-prices\\\\hi.json'"
      ]
     },
     "execution_count": 10,
     "metadata": {},
     "output_type": "execute_result"
    }
   ],
   "source": [
    "os.path.abspath(\"hi.json\")"
   ]
  },
  {
   "cell_type": "code",
   "execution_count": 9,
   "metadata": {},
   "outputs": [],
   "source": [
    "rf_config = os.path.abspath(\"rf_config.json\")\n",
    "with open(rf_config, \"w+\") as fp:\n",
    "    json.dump(dict(config[\"modeling\"][\"random_forest\"].items()), fp)  # DO NOT TOUCH\n"
   ]
  },
  {
   "cell_type": "code",
   "execution_count": 23,
   "metadata": {},
   "outputs": [
    {
     "data": {
      "text/plain": [
       "WindowsPath('d:/Learning/Udacity/Assignments/project_2/build-ml-pipeline-for-short-term-rental-prices/src/train_random_forest')"
      ]
     },
     "execution_count": 23,
     "metadata": {},
     "output_type": "execute_result"
    }
   ],
   "source": [
    "Path.joinpath(Path.cwd(),\"src\",\"train_random_forest\")"
   ]
  },
  {
   "cell_type": "code",
   "execution_count": 26,
   "metadata": {},
   "outputs": [
    {
     "name": "stderr",
     "output_type": "stream",
     "text": [
      "2023/05/06 19:46:34 INFO mlflow.projects.utils: === Fetching project from src\\components\\train_val_test_split into C:\\Users\\rahul\\AppData\\Local\\Temp\\tmpudgwfge4 ===\n"
     ]
    },
    {
     "ename": "GitCommandError",
     "evalue": "Cmd('git') failed due to: exit code(128)\n  cmdline: git remote show origin\n  stderr: 'fatal: 'src/components/train_val_test_split' does not appear to be a git repository\nfatal: Could not read from remote repository.\n\nPlease make sure you have the correct access rights\nand the repository exists.'",
     "output_type": "error",
     "traceback": [
      "\u001b[1;31m---------------------------------------------------------------------------\u001b[0m",
      "\u001b[1;31mGitCommandError\u001b[0m                           Traceback (most recent call last)",
      "Cell \u001b[1;32mIn[26], line 4\u001b[0m\n\u001b[0;32m      1\u001b[0m \u001b[39m# NOTE: use the rf_config we just created as the rf_config parameter for the train_random_forest\u001b[39;00m\n\u001b[0;32m      2\u001b[0m \u001b[39m# step\u001b[39;00m\n\u001b[1;32m----> 4\u001b[0m _\u001b[39m=\u001b[39mmlflow\u001b[39m.\u001b[39;49mrun(\n\u001b[0;32m      5\u001b[0m     os\u001b[39m.\u001b[39;49mpath\u001b[39m.\u001b[39;49mjoin(\u001b[39m\"\u001b[39;49m\u001b[39msrc\u001b[39;49m\u001b[39m\"\u001b[39;49m, \u001b[39m\"\u001b[39;49m\u001b[39mcomponents\u001b[39;49m\u001b[39m\"\u001b[39;49m, \u001b[39m\"\u001b[39;49m\u001b[39mtrain_val_test_split\u001b[39;49m\u001b[39m\"\u001b[39;49m),\n\u001b[0;32m      6\u001b[0m     \u001b[39m\"\u001b[39;49m\u001b[39mmain\u001b[39;49m\u001b[39m\"\u001b[39;49m,\n\u001b[0;32m      7\u001b[0m     parameters\u001b[39m=\u001b[39;49m{\n\u001b[0;32m      8\u001b[0m         \u001b[39m\"\u001b[39;49m\u001b[39mtrainval_artifact\u001b[39;49m\u001b[39m\"\u001b[39;49m:\u001b[39m\"\u001b[39;49m\u001b[39mtrainval_data.csv:latest\u001b[39;49m\u001b[39m\"\u001b[39;49m,\n\u001b[0;32m      9\u001b[0m         \u001b[39m\"\u001b[39;49m\u001b[39mval_size\u001b[39;49m\u001b[39m\"\u001b[39;49m: \u001b[39m0.2\u001b[39;49m,\n\u001b[0;32m     10\u001b[0m         \u001b[39m\"\u001b[39;49m\u001b[39mrandom_seed\u001b[39;49m\u001b[39m\"\u001b[39;49m: \u001b[39m42\u001b[39;49m,\n\u001b[0;32m     11\u001b[0m         \u001b[39m\"\u001b[39;49m\u001b[39mstratify_by\u001b[39;49m\u001b[39m\"\u001b[39;49m: \u001b[39m\"\u001b[39;49m\u001b[39mneighbourhood_group\u001b[39;49m\u001b[39m\"\u001b[39;49m,\n\u001b[0;32m     12\u001b[0m         \u001b[39m\"\u001b[39;49m\u001b[39mrf_config\u001b[39;49m\u001b[39m\"\u001b[39;49m: rf_config,\n\u001b[0;32m     13\u001b[0m         \u001b[39m\"\u001b[39;49m\u001b[39mmax_tfidf_features\u001b[39;49m\u001b[39m\"\u001b[39;49m: \u001b[39m5\u001b[39;49m,\n\u001b[0;32m     14\u001b[0m         \u001b[39m\"\u001b[39;49m\u001b[39moutput_artifact\u001b[39;49m\u001b[39m\"\u001b[39;49m: \u001b[39m\"\u001b[39;49m\u001b[39mrandom_forest_export\u001b[39;49m\u001b[39m\"\u001b[39;49m\n\u001b[0;32m     15\u001b[0m \n\u001b[0;32m     16\u001b[0m     }\n\u001b[0;32m     17\u001b[0m )\n",
      "File \u001b[1;32mc:\\Users\\rahul\\anaconda3\\envs\\udacity_env\\lib\\site-packages\\mlflow\\projects\\__init__.py:338\u001b[0m, in \u001b[0;36mrun\u001b[1;34m(uri, entry_point, version, parameters, docker_args, experiment_name, experiment_id, backend, backend_config, storage_dir, synchronous, run_id, run_name, env_manager, build_image, docker_auth)\u001b[0m\n\u001b[0;32m    332\u001b[0m     backend_config_dict[MLFLOW_LOCAL_BACKEND_RUN_ID_CONFIG] \u001b[39m=\u001b[39m run_id\n\u001b[0;32m    334\u001b[0m experiment_id \u001b[39m=\u001b[39m _resolve_experiment_id(\n\u001b[0;32m    335\u001b[0m     experiment_name\u001b[39m=\u001b[39mexperiment_name, experiment_id\u001b[39m=\u001b[39mexperiment_id\n\u001b[0;32m    336\u001b[0m )\n\u001b[1;32m--> 338\u001b[0m submitted_run_obj \u001b[39m=\u001b[39m _run(\n\u001b[0;32m    339\u001b[0m     uri\u001b[39m=\u001b[39;49muri,\n\u001b[0;32m    340\u001b[0m     experiment_id\u001b[39m=\u001b[39;49mexperiment_id,\n\u001b[0;32m    341\u001b[0m     entry_point\u001b[39m=\u001b[39;49mentry_point,\n\u001b[0;32m    342\u001b[0m     version\u001b[39m=\u001b[39;49mversion,\n\u001b[0;32m    343\u001b[0m     parameters\u001b[39m=\u001b[39;49mparameters,\n\u001b[0;32m    344\u001b[0m     docker_args\u001b[39m=\u001b[39;49mdocker_args,\n\u001b[0;32m    345\u001b[0m     backend_name\u001b[39m=\u001b[39;49mbackend,\n\u001b[0;32m    346\u001b[0m     backend_config\u001b[39m=\u001b[39;49mbackend_config_dict,\n\u001b[0;32m    347\u001b[0m     env_manager\u001b[39m=\u001b[39;49menv_manager,\n\u001b[0;32m    348\u001b[0m     storage_dir\u001b[39m=\u001b[39;49mstorage_dir,\n\u001b[0;32m    349\u001b[0m     synchronous\u001b[39m=\u001b[39;49msynchronous,\n\u001b[0;32m    350\u001b[0m     run_name\u001b[39m=\u001b[39;49mrun_name,\n\u001b[0;32m    351\u001b[0m     build_image\u001b[39m=\u001b[39;49mbuild_image,\n\u001b[0;32m    352\u001b[0m     docker_auth\u001b[39m=\u001b[39;49mdocker_auth,\n\u001b[0;32m    353\u001b[0m )\n\u001b[0;32m    354\u001b[0m \u001b[39mif\u001b[39;00m synchronous:\n\u001b[0;32m    355\u001b[0m     _wait_for(submitted_run_obj)\n",
      "File \u001b[1;32mc:\\Users\\rahul\\anaconda3\\envs\\udacity_env\\lib\\site-packages\\mlflow\\projects\\__init__.py:105\u001b[0m, in \u001b[0;36m_run\u001b[1;34m(uri, experiment_id, entry_point, version, parameters, docker_args, backend_name, backend_config, storage_dir, env_manager, synchronous, run_name, build_image, docker_auth)\u001b[0m\n\u001b[0;32m    103\u001b[0m backend \u001b[39m=\u001b[39m loader\u001b[39m.\u001b[39mload_backend(backend_name)\n\u001b[0;32m    104\u001b[0m \u001b[39mif\u001b[39;00m backend:\n\u001b[1;32m--> 105\u001b[0m     submitted_run \u001b[39m=\u001b[39m backend\u001b[39m.\u001b[39;49mrun(\n\u001b[0;32m    106\u001b[0m         uri,\n\u001b[0;32m    107\u001b[0m         entry_point,\n\u001b[0;32m    108\u001b[0m         parameters,\n\u001b[0;32m    109\u001b[0m         version,\n\u001b[0;32m    110\u001b[0m         backend_config,\n\u001b[0;32m    111\u001b[0m         tracking_store_uri,\n\u001b[0;32m    112\u001b[0m         experiment_id,\n\u001b[0;32m    113\u001b[0m     )\n\u001b[0;32m    114\u001b[0m     tracking\u001b[39m.\u001b[39mMlflowClient()\u001b[39m.\u001b[39mset_tag(\n\u001b[0;32m    115\u001b[0m         submitted_run\u001b[39m.\u001b[39mrun_id, MLFLOW_PROJECT_BACKEND, backend_name\n\u001b[0;32m    116\u001b[0m     )\n\u001b[0;32m    117\u001b[0m     \u001b[39mif\u001b[39;00m run_name \u001b[39mis\u001b[39;00m \u001b[39mnot\u001b[39;00m \u001b[39mNone\u001b[39;00m:\n",
      "File \u001b[1;32mc:\\Users\\rahul\\anaconda3\\envs\\udacity_env\\lib\\site-packages\\mlflow\\projects\\backend\\local.py:83\u001b[0m, in \u001b[0;36mLocalBackend.run\u001b[1;34m(self, project_uri, entry_point, params, version, backend_config, tracking_uri, experiment_id)\u001b[0m\n\u001b[0;32m     73\u001b[0m \u001b[39mdef\u001b[39;00m \u001b[39mrun\u001b[39m(\n\u001b[0;32m     74\u001b[0m     \u001b[39mself\u001b[39m,\n\u001b[0;32m     75\u001b[0m     project_uri,\n\u001b[1;32m   (...)\u001b[0m\n\u001b[0;32m     81\u001b[0m     experiment_id,\n\u001b[0;32m     82\u001b[0m ):\n\u001b[1;32m---> 83\u001b[0m     work_dir \u001b[39m=\u001b[39m fetch_and_validate_project(project_uri, version, entry_point, params)\n\u001b[0;32m     84\u001b[0m     project \u001b[39m=\u001b[39m load_project(work_dir)\n\u001b[0;32m     85\u001b[0m     \u001b[39mif\u001b[39;00m MLFLOW_LOCAL_BACKEND_RUN_ID_CONFIG \u001b[39min\u001b[39;00m backend_config:\n",
      "File \u001b[1;32mc:\\Users\\rahul\\anaconda3\\envs\\udacity_env\\lib\\site-packages\\mlflow\\projects\\utils.py:138\u001b[0m, in \u001b[0;36mfetch_and_validate_project\u001b[1;34m(uri, version, entry_point, parameters)\u001b[0m\n\u001b[0;32m    136\u001b[0m \u001b[39mdef\u001b[39;00m \u001b[39mfetch_and_validate_project\u001b[39m(uri, version, entry_point, parameters):\n\u001b[0;32m    137\u001b[0m     parameters \u001b[39m=\u001b[39m parameters \u001b[39mor\u001b[39;00m {}\n\u001b[1;32m--> 138\u001b[0m     work_dir \u001b[39m=\u001b[39m _fetch_project(uri\u001b[39m=\u001b[39;49muri, version\u001b[39m=\u001b[39;49mversion)\n\u001b[0;32m    139\u001b[0m     project \u001b[39m=\u001b[39m _project_spec\u001b[39m.\u001b[39mload_project(work_dir)\n\u001b[0;32m    140\u001b[0m     project\u001b[39m.\u001b[39mget_entry_point(entry_point)\u001b[39m.\u001b[39m_validate_parameters(parameters)\n",
      "File \u001b[1;32mc:\\Users\\rahul\\anaconda3\\envs\\udacity_env\\lib\\site-packages\\mlflow\\projects\\utils.py:172\u001b[0m, in \u001b[0;36m_fetch_project\u001b[1;34m(uri, version)\u001b[0m\n\u001b[0;32m    170\u001b[0m         _fetch_git_repo(parsed_uri, version, dst_dir)\n\u001b[0;32m    171\u001b[0m \u001b[39melse\u001b[39;00m:\n\u001b[1;32m--> 172\u001b[0m     _fetch_git_repo(parsed_uri, version, dst_dir)\n\u001b[0;32m    173\u001b[0m res \u001b[39m=\u001b[39m os\u001b[39m.\u001b[39mpath\u001b[39m.\u001b[39mabspath(os\u001b[39m.\u001b[39mpath\u001b[39m.\u001b[39mjoin(dst_dir, subdirectory))\n\u001b[0;32m    174\u001b[0m \u001b[39mif\u001b[39;00m \u001b[39mnot\u001b[39;00m os\u001b[39m.\u001b[39mpath\u001b[39m.\u001b[39mexists(res):\n",
      "File \u001b[1;32mc:\\Users\\rahul\\anaconda3\\envs\\udacity_env\\lib\\site-packages\\mlflow\\projects\\utils.py:224\u001b[0m, in \u001b[0;36m_fetch_git_repo\u001b[1;34m(uri, version, dst_dir)\u001b[0m\n\u001b[0;32m    222\u001b[0m g \u001b[39m=\u001b[39m git\u001b[39m.\u001b[39mcmd\u001b[39m.\u001b[39mGit(dst_dir)\n\u001b[0;32m    223\u001b[0m cmd \u001b[39m=\u001b[39m [\u001b[39m\"\u001b[39m\u001b[39mgit\u001b[39m\u001b[39m\"\u001b[39m, \u001b[39m\"\u001b[39m\u001b[39mremote\u001b[39m\u001b[39m\"\u001b[39m, \u001b[39m\"\u001b[39m\u001b[39mshow\u001b[39m\u001b[39m\"\u001b[39m, \u001b[39m\"\u001b[39m\u001b[39morigin\u001b[39m\u001b[39m\"\u001b[39m]\n\u001b[1;32m--> 224\u001b[0m output \u001b[39m=\u001b[39m g\u001b[39m.\u001b[39;49mexecute(cmd)\n\u001b[0;32m    225\u001b[0m head_branch \u001b[39m=\u001b[39m _get_head_branch(output)\n\u001b[0;32m    226\u001b[0m \u001b[39mif\u001b[39;00m head_branch \u001b[39mis\u001b[39;00m \u001b[39mNone\u001b[39;00m:\n",
      "File \u001b[1;32mc:\\Users\\rahul\\anaconda3\\envs\\udacity_env\\lib\\site-packages\\git\\cmd.py:1109\u001b[0m, in \u001b[0;36mGit.execute\u001b[1;34m(self, command, istream, with_extended_output, with_exceptions, as_process, output_stream, stdout_as_string, kill_after_timeout, with_stdout, universal_newlines, shell, env, max_chunk_size, strip_newline_in_stdout, **subprocess_kwargs)\u001b[0m\n\u001b[0;32m   1106\u001b[0m \u001b[39m# END handle debug printing\u001b[39;00m\n\u001b[0;32m   1108\u001b[0m \u001b[39mif\u001b[39;00m with_exceptions \u001b[39mand\u001b[39;00m status \u001b[39m!=\u001b[39m \u001b[39m0\u001b[39m:\n\u001b[1;32m-> 1109\u001b[0m     \u001b[39mraise\u001b[39;00m GitCommandError(redacted_command, status, stderr_value, stdout_value)\n\u001b[0;32m   1111\u001b[0m \u001b[39mif\u001b[39;00m \u001b[39misinstance\u001b[39m(stdout_value, \u001b[39mbytes\u001b[39m) \u001b[39mand\u001b[39;00m stdout_as_string:  \u001b[39m# could also be output_stream\u001b[39;00m\n\u001b[0;32m   1112\u001b[0m     stdout_value \u001b[39m=\u001b[39m safe_decode(stdout_value)\n",
      "\u001b[1;31mGitCommandError\u001b[0m: Cmd('git') failed due to: exit code(128)\n  cmdline: git remote show origin\n  stderr: 'fatal: 'src/components/train_val_test_split' does not appear to be a git repository\nfatal: Could not read from remote repository.\n\nPlease make sure you have the correct access rights\nand the repository exists.'"
     ]
    }
   ],
   "source": [
    "\n",
    "# NOTE: use the rf_config we just created as the rf_config parameter for the train_random_forest\n",
    "# step\n",
    "\n",
    "_=mlflow.run(\n",
    "    os.path.join(\"src\", \"components\", \"train_val_test_split\"),\n",
    "    \"main\",\n",
    "    parameters={\n",
    "        \"trainval_artifact\":\"trainval_data.csv:latest\",\n",
    "        \"val_size\": 0.2,\n",
    "        \"random_seed\": 42,\n",
    "        \"stratify_by\": \"neighbourhood_group\",\n",
    "        \"rf_config\": rf_config,\n",
    "        \"max_tfidf_features\": 5,\n",
    "        \"output_artifact\": \"random_forest_export\"\n",
    "\n",
    "    }\n",
    ")"
   ]
  },
  {
   "cell_type": "code",
   "execution_count": null,
   "metadata": {},
   "outputs": [],
   "source": []
  }
 ],
 "metadata": {
  "kernelspec": {
   "display_name": "udacity_env",
   "language": "python",
   "name": "python3"
  },
  "language_info": {
   "codemirror_mode": {
    "name": "ipython",
    "version": 3
   },
   "file_extension": ".py",
   "mimetype": "text/x-python",
   "name": "python",
   "nbconvert_exporter": "python",
   "pygments_lexer": "ipython3",
   "version": "3.10.10"
  },
  "orig_nbformat": 4
 },
 "nbformat": 4,
 "nbformat_minor": 2
}
